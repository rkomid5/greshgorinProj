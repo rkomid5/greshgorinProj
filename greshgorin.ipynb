{
 "cells": [
  {
   "cell_type": "code",
   "execution_count": 1,
   "metadata": {},
   "outputs": [],
   "source": [
    "import numpy as np\n",
    "import matplotlib\n",
    "from matplotlib.patches import Circle\n",
    "from matplotlib.collections import PatchCollection\n",
    "import matplotlib.pyplot as plt\n",
    "from numpy import linalg as LA"
   ]
  },
  {
   "cell_type": "code",
   "execution_count": 2,
   "metadata": {},
   "outputs": [],
   "source": [
    "def Gerschgorin(A):\n",
    "\n",
    "    n = len(A)\n",
    "    eval, evec = LA.eig(A)\n",
    "\n",
    "    patches = []\n",
    "    \n",
    "    # draw discs\n",
    "    \n",
    "    for i in range(n):\n",
    "        xi = np.real(A[i,i])\n",
    "        yi = np.imag(A[i,i])\n",
    "        ri = np.sum(np.abs(A[i,:])) - np.abs(A[i,i]) \n",
    "        \n",
    "        circle = Circle((xi, yi), ri)\n",
    "        patches.append(circle)\n",
    "\n",
    "    fig, ax = plt.subplots()\n",
    "    p = PatchCollection(patches, cmap=matplotlib.cm.jet, alpha=0.5)\n",
    "    ax.add_collection(p)\n",
    "    plt.axis('equal')\n",
    "    \n",
    "    for xi, yi in zip(np.real(eval), np.imag(eval)):\n",
    "        plt.plot(xi, yi,'o')\n",
    "    \n",
    "    plt.show()"
   ]
  },
  {
   "cell_type": "code",
   "execution_count": 7,
   "metadata": {},
   "outputs": [
    {
     "data": {
      "text/plain": [
       "matrix([[ 4,  1, -1,  0],\n",
       "        [ 1,  3, -1,  0],\n",
       "        [-1, -1,  5,  2],\n",
       "        [ 0,  0,  2,  4]])"
      ]
     },
     "execution_count": 7,
     "metadata": {},
     "output_type": "execute_result"
    }
   ],
   "source": [
    "M = np.matrix([[4,1,-1,0],[1,3,-1,0],[-1,-1,5,2],[0,0,2,4]])\n",
    "M\n"
   ]
  },
  {
   "cell_type": "code",
   "execution_count": 8,
   "metadata": {},
   "outputs": [
    {
     "data": {
      "image/png": "[encoded data removed]",
      "text/plain": [
       "<Figure size 432x288 with 1 Axes>"
      ]
     },
     "metadata": {},
     "output_type": "display_data"
    }
   ],
   "source": [
    "Gerschgorin(M)"
   ]
  },
  {
   "cell_type": "code",
   "execution_count": null,
   "metadata": {},
   "outputs": [],
   "source": []
  },
  {
   "cell_type": "code",
   "execution_count": null,
   "metadata": {},
   "outputs": [],
   "source": []
  },
  {
   "cell_type": "code",
   "execution_count": null,
   "metadata": {},
   "outputs": [],
   "source": []
  },
  {
   "cell_type": "code",
   "execution_count": null,
   "metadata": {},
   "outputs": [],
   "source": []
  }
 ],
 "metadata": {
  "kernelspec": {
   "display_name": "Python 3",
   "language": "python",
   "name": "python3"
  },
  "language_info": {
   "codemirror_mode": {
    "name": "ipython",
    "version": 3
   },
   "file_extension": ".py",
   "mimetype": "text/x-python",
   "name": "python",
   "nbconvert_exporter": "python",
   "pygments_lexer": "ipython3",
   "version": "3.6.5"
  }
 },
 "nbformat": 4,
 "nbformat_minor": 2
}
